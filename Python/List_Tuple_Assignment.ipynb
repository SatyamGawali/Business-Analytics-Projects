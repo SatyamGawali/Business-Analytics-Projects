{
 "cells": [
  {
   "cell_type": "markdown",
   "id": "7faf5df5",
   "metadata": {},
   "source": [
    "### 1. What is a List?"
   ]
  },
  {
   "cell_type": "code",
   "execution_count": null,
   "id": "85dfc6ea",
   "metadata": {},
   "outputs": [],
   "source": [
    "A list is a mutable, ordered collection of items in Python. Example:\n",
    "my_list = [1, 2, 3]"
   ]
  },
  {
   "cell_type": "markdown",
   "id": "46ade167",
   "metadata": {},
   "source": [
    "### 2. What is a Tuple?"
   ]
  },
  {
   "cell_type": "code",
   "execution_count": null,
   "id": "f236b1dd",
   "metadata": {},
   "outputs": [],
   "source": [
    "A tuple is an immutable, ordered collection of items in Python. Example:\n",
    "my_tuple = (1, 2, 3)"
   ]
  },
  {
   "cell_type": "markdown",
   "id": "bbf3046d",
   "metadata": {},
   "source": [
    "### 3. What is the difference between List and Tuple?"
   ]
  },
  {
   "cell_type": "code",
   "execution_count": null,
   "id": "8a0dc44c",
   "metadata": {},
   "outputs": [],
   "source": [
    "Lists are mutable, tuples are immutable.\n",
    "list_example = [1,2]\n",
    "tuple_example = (1,2)"
   ]
  },
  {
   "cell_type": "markdown",
   "id": "51317bba",
   "metadata": {},
   "source": [
    "### 4. Python Program to find the largest element in the list"
   ]
  },
  {
   "cell_type": "code",
   "execution_count": null,
   "id": "9084cb4e",
   "metadata": {},
   "outputs": [],
   "source": [
    "lst = [10, 20, 5]\n",
    "print(max(lst))"
   ]
  },
  {
   "cell_type": "markdown",
   "id": "4e38ea62",
   "metadata": {},
   "source": [
    "### 5. Python program to interchange first and last elements in a list."
   ]
  },
  {
   "cell_type": "code",
   "execution_count": null,
   "id": "8a401d2d",
   "metadata": {},
   "outputs": [],
   "source": [
    "lst = [1, 2, 3]\n",
    "lst[0], lst[-1] = lst[-1], lst[0]\n",
    "print(lst)"
   ]
  },
  {
   "cell_type": "markdown",
   "id": "dd3db714",
   "metadata": {},
   "source": [
    "### 6. Python program to swap two elements in a list"
   ]
  },
  {
   "cell_type": "code",
   "execution_count": null,
   "id": "d130bf57",
   "metadata": {},
   "outputs": [],
   "source": [
    "lst = [1, 2, 3, 4]\n",
    "lst[1], lst[2] = lst[2], lst[1]\n",
    "print(lst)"
   ]
  },
  {
   "cell_type": "markdown",
   "id": "1af552f0",
   "metadata": {},
   "source": [
    "### 7. Python program to Reverse a List"
   ]
  },
  {
   "cell_type": "code",
   "execution_count": null,
   "id": "ee4f6cef",
   "metadata": {},
   "outputs": [],
   "source": [
    "lst = [1, 2, 3]\n",
    "lst.reverse()\n",
    "print(lst)"
   ]
  },
  {
   "cell_type": "markdown",
   "id": "e1a822db",
   "metadata": {},
   "source": [
    "### 8. Python program to count occurrences of an element in a list"
   ]
  },
  {
   "cell_type": "code",
   "execution_count": null,
   "id": "d12ee116",
   "metadata": {},
   "outputs": [],
   "source": [
    "lst = [1, 2, 1, 3]\n",
    "print(lst.count(1))"
   ]
  },
  {
   "cell_type": "markdown",
   "id": "bf58408e",
   "metadata": {},
   "source": [
    "### 9. Python program to find the sum of elements in a list"
   ]
  },
  {
   "cell_type": "code",
   "execution_count": null,
   "id": "41696f31",
   "metadata": {},
   "outputs": [],
   "source": [
    "lst = [1, 2, 3]\n",
    "print(sum(lst))"
   ]
  },
  {
   "cell_type": "markdown",
   "id": "74db9113",
   "metadata": {},
   "source": [
    "### 10. Python program to Multiply all numbers in the list"
   ]
  },
  {
   "cell_type": "code",
   "execution_count": null,
   "id": "ef1d7057",
   "metadata": {},
   "outputs": [],
   "source": [
    "lst = [1, 2, 3]\n",
    "result = 1\n",
    "for i in lst:\n",
    "    result *= i\n",
    "print(result)"
   ]
  },
  {
   "cell_type": "markdown",
   "id": "a49d8836",
   "metadata": {},
   "source": [
    "### 11. What are the ways to find the length of a list"
   ]
  },
  {
   "cell_type": "code",
   "execution_count": null,
   "id": "95d317c5",
   "metadata": {},
   "outputs": [],
   "source": [
    "lst = [1, 2, 3]\n",
    "print(len(lst))"
   ]
  },
  {
   "cell_type": "markdown",
   "id": "f9bec511",
   "metadata": {},
   "source": [
    "### 12. Python program to find the smallest and largest number in a list (Without min-max)"
   ]
  },
  {
   "cell_type": "code",
   "execution_count": null,
   "id": "49a435b0",
   "metadata": {},
   "outputs": [],
   "source": [
    "lst = [3, 1, 5]\n",
    "smallest, largest = lst[0], lst[0]\n",
    "for i in lst:\n",
    "    if i < smallest: smallest = i\n",
    "    if i > largest: largest = i\n",
    "print(smallest, largest)"
   ]
  },
  {
   "cell_type": "markdown",
   "id": "12e38c90",
   "metadata": {},
   "source": [
    "### 13. Python Program to find the area of a circle"
   ]
  },
  {
   "cell_type": "code",
   "execution_count": null,
   "id": "74ad9a45",
   "metadata": {},
   "outputs": [],
   "source": [
    "r = 5\n",
    "area = 3.14 * r * r\n",
    "print(area)"
   ]
  },
  {
   "cell_type": "markdown",
   "id": "09518c04",
   "metadata": {},
   "source": [
    "### 14. Take inputs from the user to make a list and delete an input"
   ]
  },
  {
   "cell_type": "code",
   "execution_count": null,
   "id": "c61e3765",
   "metadata": {},
   "outputs": [],
   "source": [
    "lst = input(\"Enter numbers: \").split()\n",
    "target = input(\"Enter number to delete: \")\n",
    "if target in lst:\n",
    "    lst.remove(target)\n",
    "for item in lst:\n",
    "    print(item)"
   ]
  },
  {
   "cell_type": "markdown",
   "id": "ab9310ab",
   "metadata": {},
   "source": [
    "### 15. Square of elements of a list"
   ]
  },
  {
   "cell_type": "code",
   "execution_count": null,
   "id": "2aad058d",
   "metadata": {},
   "outputs": [],
   "source": [
    "lst = [2,5,6,12]\n",
    "# Without list comp\n",
    "squares = []\n",
    "for i in lst:\n",
    "    squares.append(i**2)\n",
    "print(squares)\n",
    "# With list comp\n",
    "squares = [i**2 for i in lst]\n",
    "print(squares)"
   ]
  },
  {
   "cell_type": "markdown",
   "id": "19dc281b",
   "metadata": {},
   "source": [
    "### 16. Create two lists for even and odd numbers between 0 to 151"
   ]
  },
  {
   "cell_type": "code",
   "execution_count": null,
   "id": "599a1ac3",
   "metadata": {},
   "outputs": [],
   "source": [
    "even = [i for i in range(151) if i%2==0]\n",
    "odd = [i for i in range(151) if i%2!=0]\n",
    "print(even)\n",
    "print(odd)"
   ]
  },
  {
   "cell_type": "markdown",
   "id": "a6f6c5f1",
   "metadata": {},
   "source": [
    "### 17. Count Even and Odd numbers in a List"
   ]
  },
  {
   "cell_type": "code",
   "execution_count": null,
   "id": "ca8b3587",
   "metadata": {},
   "outputs": [],
   "source": [
    "lst = [1, 2, 3, 4]\n",
    "even = odd = 0\n",
    "for i in lst:\n",
    "    if i % 2 == 0:\n",
    "        even += 1\n",
    "    else:\n",
    "        odd += 1\n",
    "print(\"Even:\", even, \"Odd:\", odd)"
   ]
  },
  {
   "cell_type": "markdown",
   "id": "f7e221ff",
   "metadata": {},
   "source": [
    "### 18. Divisible by 3, 4, 5, 6, 7, 8, 9, 10 in separate lists"
   ]
  },
  {
   "cell_type": "code",
   "execution_count": null,
   "id": "fb061b95",
   "metadata": {},
   "outputs": [],
   "source": [
    "nums = range(151)\n",
    "div_3 = [i for i in nums if i%3==0]\n",
    "div_4 = [i for i in nums if i%4==0]\n",
    "# etc."
   ]
  },
  {
   "cell_type": "markdown",
   "id": "3d435b43",
   "metadata": {},
   "source": [
    "### 19. Separate ints, strings, floats"
   ]
  },
  {
   "cell_type": "code",
   "execution_count": null,
   "id": "80b35c83",
   "metadata": {},
   "outputs": [],
   "source": [
    "mixed = [1, 'a', 2.5]\n",
    "ints, strs, floats = [], [], []\n",
    "for i in mixed:\n",
    "    if isinstance(i, int): ints.append(i)\n",
    "    elif isinstance(i, str): strs.append(i)\n",
    "    elif isinstance(i, float): floats.append(i)\n",
    "print(ints, strs, floats)"
   ]
  },
  {
   "cell_type": "markdown",
   "id": "f06785c6",
   "metadata": {},
   "source": [
    "### 20. Difference between append() and extend()"
   ]
  },
  {
   "cell_type": "code",
   "execution_count": null,
   "id": "315ec21d",
   "metadata": {},
   "outputs": [],
   "source": [
    "append() adds an element, extend() adds elements from another list.\n",
    "l = [1]\n",
    "l.append([2,3])\n",
    "print(l)\n",
    "l = [1]\n",
    "l.extend([2,3])\n",
    "print(l)"
   ]
  },
  {
   "cell_type": "markdown",
   "id": "680529dd",
   "metadata": {},
   "source": [
    "### 21. Append a list to the second list"
   ]
  },
  {
   "cell_type": "code",
   "execution_count": null,
   "id": "c375bec2",
   "metadata": {},
   "outputs": [],
   "source": [
    "l1 = [1, 2]\n",
    "l2 = [3, 4]\n",
    "l1.extend(l2)\n",
    "print(l1)"
   ]
  },
  {
   "cell_type": "markdown",
   "id": "67200c1c",
   "metadata": {},
   "source": [
    "### 22. Find the third-largest number in a list"
   ]
  },
  {
   "cell_type": "code",
   "execution_count": null,
   "id": "3fdaf749",
   "metadata": {},
   "outputs": [],
   "source": [
    "lst = [1, 2, 3, 4]\n",
    "lst.sort()\n",
    "print(lst[-3])"
   ]
  },
  {
   "cell_type": "markdown",
   "id": "4764fe07",
   "metadata": {},
   "source": [
    "### 23. Frequency of elements in a list"
   ]
  },
  {
   "cell_type": "code",
   "execution_count": null,
   "id": "2ec5093d",
   "metadata": {},
   "outputs": [],
   "source": [
    "lst = [1,2,2,3]\n",
    "from collections import Counter\n",
    "print(Counter(lst))"
   ]
  },
  {
   "cell_type": "markdown",
   "id": "044ae6e6",
   "metadata": {},
   "source": [
    "### 24. Check whether a list contains a sublist"
   ]
  },
  {
   "cell_type": "code",
   "execution_count": null,
   "id": "2194d9bb",
   "metadata": {},
   "outputs": [],
   "source": [
    "lst = [1,2,3,4]\n",
    "sub = [2,3]\n",
    "print(str(sub) in str(lst))"
   ]
  },
  {
   "cell_type": "markdown",
   "id": "2849e612",
   "metadata": {},
   "source": [
    "### 25. Generate all sublists of a list"
   ]
  },
  {
   "cell_type": "code",
   "execution_count": null,
   "id": "e346ddea",
   "metadata": {},
   "outputs": [],
   "source": [
    "lst = [1,2,3]\n",
    "sublists = []\n",
    "for i in range(len(lst)):\n",
    "    for j in range(i+1, len(lst)+1):\n",
    "        sublists.append(lst[i:j])\n",
    "print(sublists)"
   ]
  },
  {
   "cell_type": "markdown",
   "id": "5b3a8a82",
   "metadata": {},
   "source": [
    "### 26. Find common items from two lists"
   ]
  },
  {
   "cell_type": "code",
   "execution_count": null,
   "id": "1402f868",
   "metadata": {},
   "outputs": [],
   "source": [
    "l1 = [1,2,3]\n",
    "l2 = [2,3,4]\n",
    "print(list(set(l1) & set(l2)))"
   ]
  },
  {
   "cell_type": "markdown",
   "id": "6518f6c7",
   "metadata": {},
   "source": [
    "### 27. How to flatten a list in python?"
   ]
  },
  {
   "cell_type": "code",
   "execution_count": null,
   "id": "c663ff39",
   "metadata": {},
   "outputs": [],
   "source": [
    "lst = [[1,2],[3,4]]\n",
    "flat = [item for sublist in lst for item in sublist]\n",
    "print(flat)"
   ]
  },
  {
   "cell_type": "markdown",
   "id": "12523170",
   "metadata": {},
   "source": [
    "### 28. Sort a list without using sort"
   ]
  },
  {
   "cell_type": "code",
   "execution_count": null,
   "id": "6b1497ac",
   "metadata": {},
   "outputs": [],
   "source": [
    "lst = [3,1,2]\n",
    "for i in range(len(lst)):\n",
    "    for j in range(i+1, len(lst)):\n",
    "        if lst[i] > lst[j]:\n",
    "            lst[i], lst[j] = lst[j], lst[i]\n",
    "print(lst)"
   ]
  },
  {
   "cell_type": "markdown",
   "id": "b7c8ccbd",
   "metadata": {},
   "source": [
    "### 29. How to sort a tuple?"
   ]
  },
  {
   "cell_type": "code",
   "execution_count": null,
   "id": "5dd32b8e",
   "metadata": {},
   "outputs": [],
   "source": [
    "t = (3,1,2)\n",
    "sorted_t = tuple(sorted(t))\n",
    "print(sorted_t)"
   ]
  },
  {
   "cell_type": "markdown",
   "id": "12a0c720",
   "metadata": {},
   "source": [
    "### 30. Convert list of integers into a single integer"
   ]
  },
  {
   "cell_type": "code",
   "execution_count": null,
   "id": "30453c09",
   "metadata": {},
   "outputs": [],
   "source": [
    "lst = [11, 33, 50]\n",
    "print(int(''.join(map(str, lst))))"
   ]
  },
  {
   "cell_type": "markdown",
   "id": "e62a3743",
   "metadata": {},
   "source": [
    "### 31. Difference between del and clear()"
   ]
  },
  {
   "cell_type": "code",
   "execution_count": null,
   "id": "35c039e9",
   "metadata": {},
   "outputs": [],
   "source": [
    "del removes specific elements or whole list, clear empties the list."
   ]
  },
  {
   "cell_type": "markdown",
   "id": "8829fa07",
   "metadata": {},
   "source": [
    "### 32. Difference between remove and pop()"
   ]
  },
  {
   "cell_type": "code",
   "execution_count": null,
   "id": "a10809fe",
   "metadata": {},
   "outputs": [],
   "source": [
    "remove deletes by value, pop deletes by index."
   ]
  },
  {
   "cell_type": "markdown",
   "id": "133657cd",
   "metadata": {},
   "source": [
    "### 33. Difference between indexing and Slicing?"
   ]
  },
  {
   "cell_type": "code",
   "execution_count": null,
   "id": "9238169f",
   "metadata": {},
   "outputs": [],
   "source": [
    "Indexing accesses a single element, slicing accesses a range."
   ]
  },
  {
   "cell_type": "markdown",
   "id": "51991783",
   "metadata": {},
   "source": [
    "### 34. Difference between sort and sorted?"
   ]
  },
  {
   "cell_type": "code",
   "execution_count": null,
   "id": "2d237308",
   "metadata": {},
   "outputs": [],
   "source": [
    "sort() changes the list in place, sorted() returns a new list."
   ]
  },
  {
   "cell_type": "markdown",
   "id": "4358b2f7",
   "metadata": {},
   "source": [
    "### 35. Difference between reverse and reversed?"
   ]
  },
  {
   "cell_type": "code",
   "execution_count": null,
   "id": "9977fdef",
   "metadata": {},
   "outputs": [],
   "source": [
    "reverse() modifies list in place, reversed() returns iterator."
   ]
  },
  {
   "cell_type": "markdown",
   "id": "14a8a8af",
   "metadata": {},
   "source": [
    "### 36. Difference between copy and deep copy?"
   ]
  },
  {
   "cell_type": "code",
   "execution_count": null,
   "id": "6b434743",
   "metadata": {},
   "outputs": [],
   "source": [
    "copy() creates shallow copy, deepcopy() creates deep copy."
   ]
  },
  {
   "cell_type": "markdown",
   "id": "43d9b17a",
   "metadata": {},
   "source": [
    "### 37. How to check whether the list is empty or not?"
   ]
  },
  {
   "cell_type": "code",
   "execution_count": null,
   "id": "08b14c0f",
   "metadata": {},
   "outputs": [],
   "source": [
    "lst = []\n",
    "print(len(lst)==0)"
   ]
  },
  {
   "cell_type": "markdown",
   "id": "247de7a7",
   "metadata": {},
   "source": [
    "### 38. How to concatenate two lists?"
   ]
  },
  {
   "cell_type": "code",
   "execution_count": null,
   "id": "25124589",
   "metadata": {},
   "outputs": [],
   "source": [
    "l1 = [1]\n",
    "l2 = [2]\n",
    "l3 = l1 + l2\n",
    "print(l3)"
   ]
  },
  {
   "cell_type": "markdown",
   "id": "4cb155c6",
   "metadata": {},
   "source": [
    "### 39. How to find the occurrences of an element in the list?"
   ]
  },
  {
   "cell_type": "code",
   "execution_count": null,
   "id": "5a16ed17",
   "metadata": {},
   "outputs": [],
   "source": [
    "lst = [1,2,2]\n",
    "print(lst.count(2))"
   ]
  },
  {
   "cell_type": "markdown",
   "id": "729f14a0",
   "metadata": {},
   "source": [
    "### 40. How to flatten a list in python?"
   ]
  },
  {
   "cell_type": "code",
   "execution_count": null,
   "id": "3f396f2e",
   "metadata": {},
   "outputs": [],
   "source": [
    "lst = [[1,2],[3,4]]\n",
    "flat = [item for sublist in lst for item in sublist]\n",
    "print(flat)"
   ]
  }
 ],
 "metadata": {},
 "nbformat": 4,
 "nbformat_minor": 5
}
